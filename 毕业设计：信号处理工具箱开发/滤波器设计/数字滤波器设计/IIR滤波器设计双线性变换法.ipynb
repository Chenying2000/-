{
 "cells": [
  {
   "cell_type": "markdown",
   "id": "3273c18c",
   "metadata": {},
   "source": [
    "## IIR滤波器设计双线性变换法"
   ]
  },
  {
   "cell_type": "markdown",
   "id": "4696347f",
   "metadata": {},
   "source": [
    "- 为了克服脉冲响应不变变换法可能产生的频谱混叠效应的缺点，凯塞 (Kaiser) 和戈尔登 (Golden) 建议用一种新的有效的变换，这就是双线性变换。双线性变换可认为是基于对微分方程的积分，利用对积分的数值逼近得到的。"
   ]
  },
  {
   "cell_type": "markdown",
   "id": "67323e87",
   "metadata": {},
   "source": [
    "- 利用脉冲响应不变变换法，把下列模拟域的模拟滤波器转换为数字滤波器，采样周期$T=1$\n",
    "$$H(s)=\\frac{s+1}{s^2+5s+6}$$"
   ]
  },
  {
   "cell_type": "code",
   "execution_count": 2,
   "id": "c7741ad6",
   "metadata": {},
   "outputs": [
    {
     "data": {
      "text/plain": [
       "(array([ 4.90172170e-03,  4.87733502e-05, -4.85294835e-03]),\n",
       " array([ 1.        , -1.95064137,  0.95122665]))"
      ]
     },
     "execution_count": 2,
     "metadata": {},
     "output_type": "execute_result"
    }
   ],
   "source": [
    "#library\n",
    "import numpy as np\n",
    "from scipy import signal\n",
    "\n",
    "#analog filter transfer function\n",
    "b_analog = np.array([1,1]) #numerator\n",
    "a_analog = np.array([1,5,6]) #denominator\n",
    "T = 0.01;fs = 1/T #sampling rate\n",
    "\n",
    "#bilinear transformation method\n",
    "filtz = signal.bilinear(b_analog,a_analog,fs)\n",
    "filtz"
   ]
  },
  {
   "attachments": {
    "image.png": {
     "image/png": "[encoded data removed]"
    }
   },
   "cell_type": "markdown",
   "id": "76546997",
   "metadata": {},
   "source": [
    "![image.png](attachment:image.png)"
   ]
  },
  {
   "cell_type": "code",
   "execution_count": 6,
   "id": "08247bc4",
   "metadata": {},
   "outputs": [
    {
     "data": {
      "text/plain": [
       "(array([ 4.90172170e-03,  4.87733502e-05, -4.85294835e-03]),\n",
       " array([ 1.        , -1.95064137,  0.95122665]))"
      ]
     },
     "execution_count": 6,
     "metadata": {},
     "output_type": "execute_result"
    }
   ],
   "source": [
    "#导入需要的库\n",
    "import numpy as np\n",
    "from scipy import signal\n",
    "\n",
    "\n",
    "\n",
    "#定义双线性变换法设计IIR滤波器\n",
    "def bilinear_IIR(den_analog,num_analog,T):\n",
    "    fs = 1/T\n",
    "    num_digtal,den_digtal = signal.bilinear(den_analog,num_analog,fs)\n",
    "    return num_digtal,den_digtal\n",
    "\n",
    "#给定模拟滤波器的传递函数\n",
    "b_analog = np.array([1,1]) #模拟滤波器的分母系数向量\n",
    "a_analog = np.array([1,5,6]) #模拟滤波器的分子系数向量\n",
    "T = 0.01#采样周期\n",
    "#调用函数bilinear_IIR\n",
    "b_digtal,a_digtal = bilinear_IIR(b_analog,a_analog,T)\n",
    "b_digtal,a_digtal "
   ]
  },
  {
   "cell_type": "code",
   "execution_count": null,
   "id": "0e39487f",
   "metadata": {},
   "outputs": [],
   "source": []
  }
 ],
 "metadata": {
  "kernelspec": {
   "display_name": "Python 3 (ipykernel)",
   "language": "python",
   "name": "python3"
  },
  "language_info": {
   "codemirror_mode": {
    "name": "ipython",
    "version": 3
   },
   "file_extension": ".py",
   "mimetype": "text/x-python",
   "name": "python",
   "nbconvert_exporter": "python",
   "pygments_lexer": "ipython3",
   "version": "3.9.7"
  }
 },
 "nbformat": 4,
 "nbformat_minor": 5
}
