{
 "cells": [
  {
   "cell_type": "markdown",
   "id": "c311c116",
   "metadata": {},
   "source": [
    "## 三角脉冲、矩形脉冲"
   ]
  },
  {
   "cell_type": "markdown",
   "id": "1759acdc",
   "metadata": {},
   "source": [
    "### 导入模块"
   ]
  },
  {
   "cell_type": "code",
   "execution_count": 12,
   "id": "92b5d8ca",
   "metadata": {},
   "outputs": [],
   "source": [
    "import numpy as np\n",
    "from scipy import signal\n",
    "import matplotlib.pyplot as plt"
   ]
  },
  {
   "cell_type": "markdown",
   "id": "202f4320",
   "metadata": {},
   "source": [
    "### 三角脉冲"
   ]
  },
  {
   "cell_type": "markdown",
   "id": "ba3b0038",
   "metadata": {},
   "source": [
    "生成 2 秒的三角形脉冲，采样率为 10 kHz，宽度为 20 ms。对一个矩形脉冲进行重复计算。"
   ]
  },
  {
   "cell_type": "code",
   "execution_count": 14,
   "id": "055e68f3",
   "metadata": {},
   "outputs": [],
   "source": [
    "def triangular_pulse(start, end, width, step):\n",
    "    xout = []\n",
    "    yout = []\n",
    "    #for x in range(-width, width, step):\n",
    "    for x in range(start, end, step):\n",
    "        if start<x<2*width:\n",
    "            x = np.arange(start, 2*width, step)\n",
    "            xout=x\n",
    "            y = np.where(x >= width, 2*width - x, x)\n",
    "            yout=y\n",
    "        else:\n",
    "            xout = np.append(xout,x)\n",
    "            yout = np.append(yout,0)\n",
    "    return xout, yout"
   ]
  },
  {
   "cell_type": "markdown",
   "id": "bfa10516",
   "metadata": {},
   "source": [
    "输入已知的波形信息"
   ]
  },
  {
   "cell_type": "code",
   "execution_count": 15,
   "id": "1ac5dba6",
   "metadata": {},
   "outputs": [],
   "source": [
    "fs = 10000  #采样频率\n",
    "width = 200 #20ms 有 200 个点\n",
    "end = 1200 #0.1s有20000个点，本案例中只选取前0.1秒的波形\n",
    "start = 0\n",
    "step = 1\n",
    "a,b = triangular_pulse(start,end,width,step)\n",
    "xi = np.arange(-800,0)#添加输出波形的负数部分\n",
    "yi = np.zeros(800)\n",
    "xo = np.append(xi,a)\n",
    "yo = np.append(yi,b)\n",
    "x = xo/10000-0.02 #将点数转变为时间和函数值\n",
    "y = yo/200"
   ]
  },
  {
   "cell_type": "code",
   "execution_count": 16,
   "id": "cc588b2d",
   "metadata": {},
   "outputs": [
    {
     "name": "stderr",
     "output_type": "stream",
     "text": [
      "No handles with labels found to put in legend.\n"
     ]
    },
    {
     "data": {
      "image/png": "[encoded data removed]",
      "text/plain": [
       "<Figure size 432x288 with 1 Axes>"
      ]
     },
     "metadata": {
      "needs_background": "light"
     },
     "output_type": "display_data"
    }
   ],
   "source": [
    "#绘图\n",
    "fig,ax = plt.subplots(constrained_layout=True)\n",
    "ax.plot(x,y)\n",
    "ax.set_title('三角脉冲波形')\n",
    "ax.set_xlabel('t/s')\n",
    "ax.legend(fontsize=12)\n",
    "plt.rcParams['font.sans-serif']=['SimHei']\n",
    "plt.rcParams['axes.unicode_minus'] = False \n",
    "fig.savefig('./三角脉冲波形.png',dpi=500)"
   ]
  },
  {
   "cell_type": "markdown",
   "id": "0e3b9587",
   "metadata": {},
   "source": [
    "### 矩形脉冲"
   ]
  },
  {
   "cell_type": "code",
   "execution_count": 17,
   "id": "f9c8815a",
   "metadata": {},
   "outputs": [],
   "source": [
    "def square_pulse(start, end, width, step):\n",
    "    xout = []\n",
    "    yout = []\n",
    "    #for x in range(-width, width, step):\n",
    "    for x in range(start, end, step):\n",
    "        if start<x<width:\n",
    "            x = np.arange(start, width, step)\n",
    "            xout=x\n",
    "            yout= np.ones(width)\n",
    "\n",
    "        else:\n",
    "            xout = np.append(xout,x)\n",
    "            yout = np.append(yout,0)\n",
    "    return xout, yout"
   ]
  },
  {
   "cell_type": "markdown",
   "id": "bd3d1050",
   "metadata": {},
   "source": [
    "输入已知的波形信息"
   ]
  },
  {
   "cell_type": "code",
   "execution_count": 18,
   "id": "c3a5273a",
   "metadata": {},
   "outputs": [],
   "source": [
    "fs = 10000  #采样频率\n",
    "width = 400 #20ms 有 200 个点\n",
    "end = 1200 #0.1s有20000个点，本案例中只选取前0.1秒的波形\n",
    "start = 0\n",
    "step = 1\n",
    "a,b = square_pulse(start,end,width,step)\n",
    "xi = np.arange(-800,0)#添加输出波形中的负数部分\n",
    "yi = np.zeros(800)\n",
    "xo = np.append(xi,a)\n",
    "yo = np.append(yi,b)\n",
    "x = xo/10000-0.02 #将点数值转变为时间值和函数值\n",
    "y = yo"
   ]
  },
  {
   "cell_type": "code",
   "execution_count": 19,
   "id": "f2c5d127",
   "metadata": {},
   "outputs": [
    {
     "name": "stderr",
     "output_type": "stream",
     "text": [
      "No handles with labels found to put in legend.\n"
     ]
    },
    {
     "data": {
      "image/png": "[encoded data removed]",
      "text/plain": [
       "<Figure size 432x288 with 1 Axes>"
      ]
     },
     "metadata": {
      "needs_background": "light"
     },
     "output_type": "display_data"
    }
   ],
   "source": [
    "#绘图\n",
    "fig,ax = plt.subplots(constrained_layout=True)\n",
    "ax.plot(x,y)\n",
    "ax.set_title('矩形脉冲波形')\n",
    "ax.set_xlabel('t/s')\n",
    "ax.legend(fontsize=12)\n",
    "plt.rcParams['font.sans-serif']=['SimHei']\n",
    "plt.rcParams['axes.unicode_minus'] = False \n",
    "fig.savefig('./矩形脉冲波形.png',dpi=500)"
   ]
  },
  {
   "cell_type": "markdown",
   "id": "5ba1239f",
   "metadata": {},
   "source": [
    "### 拓展：高斯调制正弦脉冲"
   ]
  },
  {
   "cell_type": "markdown",
   "id": "95a03a87",
   "metadata": {},
   "source": [
    "gauspuls 函数使用指定时间、中心频率和小数带宽生成高斯调制正弦脉冲。\n",
    "\n",
    "sinc 函数计算输入向量或矩阵的数学正弦函数。正弦函数是宽度为 2π，高度为单位高度的矩形脉冲的连续傅里叶逆变换。\n",
    "\n",
    "生成带宽为 60%、采样率为 1 MHz 的 50 kHz 高斯 RF 脉冲。当包络比峰值低 40 dB 时，截断脉冲。"
   ]
  },
  {
   "cell_type": "code",
   "execution_count": 21,
   "id": "2ec41004",
   "metadata": {},
   "outputs": [
    {
     "data": {
      "text/plain": [
       "Text(0.5, 1.0, '高斯调制正弦波')"
      ]
     },
     "execution_count": 21,
     "metadata": {},
     "output_type": "execute_result"
    },
    {
     "data": {
      "image/png": "[encoded data removed]",
      "text/plain": [
       "<Figure size 432x288 with 1 Axes>"
      ]
     },
     "metadata": {
      "needs_background": "light"
     },
     "output_type": "display_data"
    }
   ],
   "source": [
    "t = np.linspace(-0.04, 0.04, 80000, endpoint=False)\n",
    "y1 = signal.gausspulse(t, fc=50000, bw=0.6, bwr=- 6, tpr=- 40, retquad=False, retenv=False)\n",
    "plt.plot(t*1e3,y1)\n",
    "plt.xlim((-0.04,0.04))\n",
    "plt.xlabel('时间(ms)')\n",
    "plt.ylabel('幅值')\n",
    "plt.title('高斯调制正弦波')"
   ]
  }
 ],
 "metadata": {
  "kernelspec": {
   "display_name": "Python 3 (ipykernel)",
   "language": "python",
   "name": "python3"
  },
  "language_info": {
   "codemirror_mode": {
    "name": "ipython",
    "version": 3
   },
   "file_extension": ".py",
   "mimetype": "text/x-python",
   "name": "python",
   "nbconvert_exporter": "python",
   "pygments_lexer": "ipython3",
   "version": "3.9.7"
  }
 },
 "nbformat": 4,
 "nbformat_minor": 5
}
